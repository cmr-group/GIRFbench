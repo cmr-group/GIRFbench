{
 "cells": [
  {
   "cell_type": "code",
   "execution_count": 18,
   "metadata": {},
   "outputs": [],
   "source": [
    "import SkopeDataReader\n",
    "from copy import copy\n",
    "import numpy as np\n",
    "import pickle\n",
    "\n",
    "# Converts Skope AttrDict to normal dict\n",
    "def convert_to_dict(ad):\n",
    "    d = copy(ad.__dict__)\n",
    "    for key, val in d.items():\n",
    "        if type(val) == SkopeDataReader.AttrDict.AttrDict:\n",
    "            d[key] = convert_to_dict(val)\n",
    "    return d"
   ]
  },
  {
   "cell_type": "code",
   "execution_count": 19,
   "metadata": {},
   "outputs": [],
   "source": [
    "wave_file = '../acquire/seqs/skope_meas.pickle'\n",
    "with open(wave_file, 'rb') as handle:\n",
    "    pp = pickle.load(handle)\n",
    "    \n",
    "wave_data = pp['wave_data']\n",
    "t_trig = pp['t_trigger']\n",
    "\n",
    "all_diridx = []\n",
    "for mm in pp['all_meas']:\n",
    "    if mm['channels'][2] == 'x':\n",
    "        diridx = 0\n",
    "    elif mm['channels'][2] == 'y':\n",
    "        diridx = 1\n",
    "    elif mm['channels'][2] == 'z':\n",
    "        diridx = 2\n",
    "    all_diridx.append(diridx)\n",
    "    \n",
    "all_diridx = np.array(all_diridx)"
   ]
  },
  {
   "cell_type": "code",
   "execution_count": 15,
   "metadata": {},
   "outputs": [],
   "source": [
    "dataPath = 'F:\\\\data\\\\2024_1027_girf3\\\\2024_1024\\\\'\n",
    "scanNr = 9\n",
    "\n",
    "scan = SkopeDataReader.DataReader(dataPath, scanNr)\n",
    "sd = convert_to_dict(scan.scanDef)\n",
    "N_d = int(sd['data']['k']['nrInterleaveSamples'])\n",
    "dt = sd['data']['k']['dt']\n",
    "delay = sd['data']['k']['delay']\n",
    "skope_tt = np.arange(N_d) * dt + delay"
   ]
  },
  {
   "cell_type": "code",
   "execution_count": 25,
   "metadata": {},
   "outputs": [
    {
     "name": "stdout",
     "output_type": "stream",
     "text": [
      "(10, 3, 24, 3, 16, 80000)\n"
     ]
    }
   ],
   "source": [
    "N_av = 10\n",
    "N_ax = 3\n",
    "N_waves = 24\n",
    "N_fits = 16\n",
    "N_polarity = 3\n",
    "\n",
    "kdata = np.zeros([N_av, N_ax, N_waves, N_polarity, N_fits, N_d], np.float32)\n",
    "all_grad = np.zeros([N_av, N_ax, N_waves, N_polarity, N_d], np.float32)\n",
    "\n",
    "print(kdata.shape)\n",
    "\n",
    "for ii, meas in enumerate(pp['all_meas']):\n",
    "    i_av = meas['i_av']\n",
    "    i_polarity = meas['polarity'] + 1\n",
    "    \n",
    "    if meas['channels'][2] == 'x':\n",
    "        i_ax = 0\n",
    "    elif meas['channels'][2] == 'y':\n",
    "        i_ax = 1\n",
    "    elif meas['channels'][2] == 'z':\n",
    "        i_ax = 2\n",
    "        \n",
    "    i_wave = meas['idx']\n",
    "    if meas['mode'] == 'chirp':\n",
    "        i_wave += 12\n",
    "        \n",
    "    kdata[i_av, i_ax, i_wave, i_polarity] = scan.getData('kspha', dynamics=[ii,]).squeeze().transpose()\n",
    "    \n",
    "    tt = t_trig[ii] + skope_tt\n",
    "\n",
    "    if wave_data[i_ax].size > 0:\n",
    "        if i_ax == 0:\n",
    "            gg = np.interp(tt, wave_data[i_ax][0], -wave_data[i_ax][1], 0, 0)\n",
    "        else:\n",
    "            gg = np.interp(tt, wave_data[i_ax][0], wave_data[i_ax][1], 0, 0)\n",
    "    else:\n",
    "        gg = np.zeros_like(tt)\n",
    "        \n",
    "    all_grad[i_av, i_ax, i_wave, i_polarity] = gg"
   ]
  },
  {
   "cell_type": "code",
   "execution_count": null,
   "metadata": {},
   "outputs": [
    {
     "data": {
      "text/plain": [
       "dtype('float32')"
      ]
     },
     "execution_count": 24,
     "metadata": {},
     "output_type": "execute_result"
    }
   ],
   "source": [
    "kdata.dtype"
   ]
  }
 ],
 "metadata": {
  "kernelspec": {
   "display_name": "base",
   "language": "python",
   "name": "python3"
  },
  "language_info": {
   "codemirror_mode": {
    "name": "ipython",
    "version": 3
   },
   "file_extension": ".py",
   "mimetype": "text/x-python",
   "name": "python",
   "nbconvert_exporter": "python",
   "pygments_lexer": "ipython3",
   "version": "3.11.5"
  }
 },
 "nbformat": 4,
 "nbformat_minor": 2
}
