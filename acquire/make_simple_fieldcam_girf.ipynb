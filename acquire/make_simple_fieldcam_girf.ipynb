{
 "cells": [
  {
   "cell_type": "code",
   "execution_count": null,
   "id": "67c655a1",
   "metadata": {},
   "outputs": [],
   "source": [
    "import pickle\n",
    "import sys\n",
    "from pathlib import Path\n",
    "import matplotlib.pyplot as plt\n",
    "import copy\n",
    "import numpy as np\n",
    "\n",
    "from helpers import (\n",
    "    PSeq_Base,\n",
    "    PSeq_Params,\n",
    "    PSeq_Moments3D,\n",
    "    PSeq_Excite_PE,\n",
    "    PSeq_TestWave_Chirp,\n",
    ")"
   ]
  },
  {
   "cell_type": "code",
   "execution_count": 12,
   "id": "232aeab1",
   "metadata": {},
   "outputs": [],
   "source": [
    "# Setup base sequernce parameters\n",
    "params = PSeq_Params(channels=('x', 'y', 'z'), max_grad=40, max_slew=140)\n",
    "pseq0 = PSeq_Base(params)\n",
    "\n",
    "pseq_excite = PSeq_Excite_PE(params)\n",
    "\n",
    "# Setup chirp test waveforms\n",
    "pseq_test = PSeq_TestWave_Chirp(params, do_adc=True)\n",
    "\n",
    "pseq_refocus = PSeq_Moments3D(\n",
    "    params,\n",
    "    start_areas=(None, None, pseq_test.all_areas),\n",
    "    end_areas=(0, 0, 0),\n",
    "    start_polarities=(1, 1, (-1, 0, 1)),\n",
    ")"
   ]
  },
  {
   "cell_type": "code",
   "execution_count": null,
   "id": "115444f8",
   "metadata": {},
   "outputs": [
    {
     "name": "stdout",
     "output_type": "stream",
     "text": [
      "[-39. -19.   1.  21.  41.]\n"
     ]
    }
   ],
   "source": [
    "N_av = 4\n",
    "TR = 500e-3\n",
    "\n",
    "# Slice offsets\n",
    "FOVz = 80e-3  # 8 cm\n",
    "Nslices = 5\n",
    "slice_shift = 1e-3\n",
    "all_offsets = np.linspace(-FOVz/2, FOVz/2, Nslices) + slice_shift\n",
    "\n",
    "all_meas = []\n",
    "\n",
    "pseq0.reinit_seq()\n",
    "for i_av in range(N_av):\n",
    "    for channels in [(\"y\", \"z\", \"x\"), (\"x\", \"z\", \"y\"), (\"x\", \"y\", \"z\")]:\n",
    "        pseq0.channels = channels\n",
    "            \n",
    "        for wave_idx in range(pseq_test.N_waves):\n",
    "            for polarity in [-1, 0, 1]:\n",
    "                for offset in all_offsets:\n",
    "                \n",
    "                    pseq0.channels = channels\n",
    "\n",
    "                    dur = 0\n",
    "                    dur += pseq0.add_pseq_to_self(pseq_excite, offset=offset)\n",
    "                    dur += pseq0.add_pseq_to_self(pseq_test, idx=wave_idx, polarity=polarity)\n",
    "                    dur += pseq0.add_pseq_to_self(pseq_refocus, idx2=wave_idx, start_pol2=polarity)\n",
    "\n",
    "                    pseq0.add_delay(TR-dur)\n",
    "                    pseq0.increment_rf_spoiling()\n",
    "                    \n",
    "                    all_meas.append(\n",
    "                        {'channels': channels,\n",
    "                        'wave_idx': wave_idx,\n",
    "                        'polarity': polarity,\n",
    "                        'i_av': i_av,\n",
    "                        },\n",
    "                    )"
   ]
  },
  {
   "cell_type": "code",
   "execution_count": 14,
   "id": "6916bf25",
   "metadata": {},
   "outputs": [
    {
     "name": "stdout",
     "output_type": "stream",
     "text": [
      "======== phantom_girf_v1_4av ========\n",
      "Seq Time: 0:18:00\n",
      "Timing check passed successfully\n",
      " * SAVED! *\n"
     ]
    }
   ],
   "source": [
    "seq_name = f'phantom_girf_v1_{N_av}av'\n",
    "print(f'======== {seq_name} ========')\n",
    "\n",
    "pseq0.seq.set_definition(key=\"Name\", value=seq_name)\n",
    "pseq0.seq.set_definition(key=\"FOV\", value=[100e-3, 100e-3, FOVz])\n",
    "\n",
    "pseq0.check()\n",
    "\n",
    "save_res = {'all_meas': all_meas}\n",
    "Path('./seqs/').mkdir(parents=True, exist_ok=True)\n",
    "pseq0.seq.write(f'./seqs/{seq_name}.seq')\n",
    "with Path(f'./seqs/{seq_name}.pickle').open('wb') as handle:\n",
    "    pickle.dump(save_res, handle, protocol=pickle.HIGHEST_PROTOCOL)\n",
    "    \n",
    "print(' * SAVED! *')"
   ]
  },
  {
   "cell_type": "code",
   "execution_count": null,
   "id": "b0802fae",
   "metadata": {},
   "outputs": [],
   "source": []
  }
 ],
 "metadata": {
  "kernelspec": {
   "display_name": "Python 3",
   "language": "python",
   "name": "python3"
  },
  "language_info": {
   "codemirror_mode": {
    "name": "ipython",
    "version": 3
   },
   "file_extension": ".py",
   "mimetype": "text/x-python",
   "name": "python",
   "nbconvert_exporter": "python",
   "pygments_lexer": "ipython3",
   "version": "3.13.2"
  }
 },
 "nbformat": 4,
 "nbformat_minor": 5
}
