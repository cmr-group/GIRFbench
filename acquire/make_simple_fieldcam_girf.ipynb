{
 "cells": [
  {
   "cell_type": "markdown",
   "id": "48070c11",
   "metadata": {},
   "source": [
    "#### Basic Field Camera GIRF measurement\n",
    "Make a simple GIRF sequence for a field camera that measures a series of slightly different chirp waveforms.  It cycles through all channels, and should take 9 minutes to run."
   ]
  },
  {
   "cell_type": "code",
   "execution_count": 2,
   "id": "67c655a1",
   "metadata": {},
   "outputs": [],
   "source": [
    "import pickle\n",
    "from pathlib import Path\n",
    "\n",
    "import numpy as np\n",
    "from helpers import (\n",
    "    PSeq_Base,\n",
    "    PSeq_SkopeTrigger,\n",
    "    PSeq_Moments3D,\n",
    "    PSeq_Params,\n",
    "    PSeq_TestWave_Chirp,\n",
    ")"
   ]
  },
  {
   "cell_type": "code",
   "execution_count": 3,
   "id": "232aeab1",
   "metadata": {},
   "outputs": [],
   "source": [
    "# Setup base sequernce parameters\n",
    "params = PSeq_Params(channels=('x', 'y', 'z'), max_grad=32, max_slew=140)\n",
    "\n",
    "# This holds the full sequence\n",
    "pseq0 = PSeq_Base(params)\n",
    "\n",
    "# Slice excitation\n",
    "pseq_excite = PSeq_SkopeTrigger(params)\n",
    "\n",
    "# Setup chirp test waveforms\n",
    "pseq_test = PSeq_TestWave_Chirp(params)\n",
    "\n",
    "# Refocus the test waveforms and any other spatial encoding\n",
    "pseq_refocus = PSeq_Moments3D(\n",
    "    params,\n",
    "    start_areas=(None, None, pseq_test.all_areas),\n",
    "    end_areas=(0, 0, 0),\n",
    "    start_polarities=(1, 1, (-1, 0, 1)),\n",
    ")\n",
    "\n",
    "# Other parameters:\n",
    "N_av = 10\n",
    "TR = 500e-3"
   ]
  },
  {
   "cell_type": "code",
   "execution_count": 4,
   "id": "115444f8",
   "metadata": {},
   "outputs": [],
   "source": [
    "all_meas = []\n",
    "\n",
    "pseq0.reinit_seq()\n",
    "for i_av in range(N_av):\n",
    "    for channels in [(\"y\", \"z\", \"x\"), (\"x\", \"z\", \"y\"), (\"x\", \"y\", \"z\")]:\n",
    "        params.channels = channels\n",
    "        for wave_idx in range(pseq_test.N_waves):\n",
    "            # 0 polarity can be removed to save time, but it may be useful in some types of processing\n",
    "            for polarity in [-1, 0, 1]:  \n",
    "                \n",
    "                pseq0.channels = channels\n",
    "\n",
    "                pseq0.track_time = 0\n",
    "                pseq0 += pseq_excite.build_blocks()\n",
    "                pseq0 += pseq_test.build_blocks(idx=wave_idx, polarity=polarity)\n",
    "                pseq0 += pseq_refocus.build_blocks(idx2=wave_idx, start_pol2=polarity)\n",
    "\n",
    "                pseq0.add_delay(TR-pseq0.track_time)\n",
    "                params.increment_rf_spoiling()\n",
    "                \n",
    "                all_meas.append(\n",
    "                    {'channels': channels,\n",
    "                    'wave_idx': wave_idx,\n",
    "                    'polarity': polarity,\n",
    "                    'i_av': i_av,\n",
    "                    },\n",
    "                )"
   ]
  },
  {
   "cell_type": "code",
   "execution_count": 5,
   "id": "6916bf25",
   "metadata": {},
   "outputs": [
    {
     "name": "stdout",
     "output_type": "stream",
     "text": [
      "======== cam_girf_v1_10av ========\n",
      "Seq Time: 0:09:00\n",
      "Timing check passed successfully\n",
      " * SAVED! *\n"
     ]
    }
   ],
   "source": [
    "seq_name = f'cam_girf_v1_{N_av}av'\n",
    "print(f'======== {seq_name} ========')\n",
    "\n",
    "pseq0.seq.set_definition(key=\"Name\", value=seq_name)\n",
    "pseq0.seq.set_definition(key=\"FOV\", value=[50e-3, 50e-3, 50e-3])  \n",
    "\n",
    "pseq0.check()\n",
    "\n",
    "save_res = {'all_meas': all_meas}\n",
    "Path('./seqs/').mkdir(parents=True, exist_ok=True)\n",
    "pseq0.seq.write(f'./seqs/{seq_name}.seq')\n",
    "with Path(f'./seqs/{seq_name}.pickle').open('wb') as handle:\n",
    "    pickle.dump(save_res, handle, protocol=pickle.HIGHEST_PROTOCOL)\n",
    "    \n",
    "print(' * SAVED! *')"
   ]
  },
  {
   "cell_type": "code",
   "execution_count": null,
   "id": "a475d528",
   "metadata": {},
   "outputs": [],
   "source": []
  }
 ],
 "metadata": {
  "kernelspec": {
   "display_name": "Python 3",
   "language": "python",
   "name": "python3"
  },
  "language_info": {
   "codemirror_mode": {
    "name": "ipython",
    "version": 3
   },
   "file_extension": ".py",
   "mimetype": "text/x-python",
   "name": "python",
   "nbconvert_exporter": "python",
   "pygments_lexer": "ipython3",
   "version": "3.13.2"
  }
 },
 "nbformat": 4,
 "nbformat_minor": 5
}
